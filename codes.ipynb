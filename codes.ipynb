{
 "cells": [
  {
   "cell_type": "markdown",
   "id": "0d509280",
   "metadata": {},
   "source": [
    "# PYTHON CODES TUTORIAL"
   ]
  },
  {
   "cell_type": "markdown",
   "id": "9e6ca00e",
   "metadata": {},
   "source": [
    "## Import Libraries"
   ]
  },
  {
   "cell_type": "code",
   "execution_count": 1,
   "id": "969ced4b",
   "metadata": {},
   "outputs": [],
   "source": [
    "#import pandas as pd\n",
    "#import numpy as np\n",
    "#import random\n",
    "#import matplotlib.pyplot as plt\n",
    "#%matplotlib inline"
   ]
  },
  {
   "cell_type": "markdown",
   "id": "f5d269b2",
   "metadata": {},
   "source": [
    "# Data Size"
   ]
  },
  {
   "cell_type": "code",
   "execution_count": 2,
   "id": "8a345d18",
   "metadata": {},
   "outputs": [],
   "source": [
    "#df.shape"
   ]
  },
  {
   "cell_type": "markdown",
   "id": "fa111304",
   "metadata": {},
   "source": [
    "# Summary of Numeric Data"
   ]
  },
  {
   "cell_type": "code",
   "execution_count": 3,
   "id": "7b3007aa",
   "metadata": {},
   "outputs": [],
   "source": [
    "#df.describe()"
   ]
  },
  {
   "cell_type": "markdown",
   "id": "21d3aa8a",
   "metadata": {},
   "source": [
    "# Value Coutns"
   ]
  },
  {
   "cell_type": "code",
   "execution_count": 4,
   "id": "9c587142",
   "metadata": {},
   "outputs": [],
   "source": [
    "#df.value_counts()"
   ]
  },
  {
   "cell_type": "markdown",
   "id": "62cb5acc",
   "metadata": {},
   "source": [
    "# Check Data Types & Null Values"
   ]
  },
  {
   "cell_type": "code",
   "execution_count": 5,
   "id": "da293fbe",
   "metadata": {},
   "outputs": [],
   "source": [
    "#df.info()"
   ]
  },
  {
   "cell_type": "markdown",
   "id": "a5e772a0",
   "metadata": {},
   "source": [
    "# Counts"
   ]
  },
  {
   "cell_type": "code",
   "execution_count": 6,
   "id": "2052356e",
   "metadata": {},
   "outputs": [],
   "source": [
    "#df.count()"
   ]
  },
  {
   "cell_type": "markdown",
   "id": "478b8195",
   "metadata": {},
   "source": [
    "# Duplicated Values"
   ]
  },
  {
   "cell_type": "code",
   "execution_count": 7,
   "id": "d65980d6",
   "metadata": {},
   "outputs": [],
   "source": [
    "#df.duplicated()"
   ]
  },
  {
   "cell_type": "markdown",
   "id": "39034e11",
   "metadata": {},
   "source": [
    "# Sum of Duplicated Values"
   ]
  },
  {
   "cell_type": "code",
   "execution_count": 8,
   "id": "ce255fcb",
   "metadata": {},
   "outputs": [],
   "source": [
    "#df.duplicated.sum()"
   ]
  },
  {
   "cell_type": "markdown",
   "id": "c434f11f",
   "metadata": {},
   "source": [
    "# Unique Values in Specific Column"
   ]
  },
  {
   "cell_type": "code",
   "execution_count": 9,
   "id": "9e6dd42a",
   "metadata": {},
   "outputs": [],
   "source": [
    "\n",
    "#df['column'].nunique()"
   ]
  },
  {
   "cell_type": "markdown",
   "id": "003ad996",
   "metadata": {},
   "source": [
    "# Drop Duplicates"
   ]
  },
  {
   "cell_type": "code",
   "execution_count": 10,
   "id": "88499dcd",
   "metadata": {},
   "outputs": [],
   "source": [
    "#df.drop_duplicates(inplace=True) "
   ]
  },
  {
   "cell_type": "markdown",
   "id": "60d3294c",
   "metadata": {},
   "source": [
    "# Query Specsific Values"
   ]
  },
  {
   "cell_type": "code",
   "execution_count": 11,
   "id": "763fb8f4",
   "metadata": {},
   "outputs": [],
   "source": [
    "#df.query('Column1 == \"value1\" & column2 != \"value2\"'))"
   ]
  },
  {
   "cell_type": "markdown",
   "id": "76e89f5a",
   "metadata": {},
   "source": [
    "# Check Null Values"
   ]
  },
  {
   "cell_type": "code",
   "execution_count": 12,
   "id": "2db23ff2",
   "metadata": {},
   "outputs": [],
   "source": [
    "#df.isnull().sum() "
   ]
  },
  {
   "cell_type": "markdown",
   "id": "be1a3ad6",
   "metadata": {},
   "source": [
    "# The Number of Unique Values in each Column in The Dataset"
   ]
  },
  {
   "cell_type": "code",
   "execution_count": 13,
   "id": "793f2347",
   "metadata": {},
   "outputs": [],
   "source": [
    "#df.nunique()"
   ]
  },
  {
   "cell_type": "markdown",
   "id": "7eb19f2c",
   "metadata": {},
   "source": [
    "# group Data"
   ]
  },
  {
   "cell_type": "code",
   "execution_count": 14,
   "id": "df47ffeb",
   "metadata": {},
   "outputs": [],
   "source": [
    "#df.groupby('column').count()"
   ]
  },
  {
   "cell_type": "markdown",
   "id": "2dcb90e2",
   "metadata": {},
   "source": [
    "# Replace Columns"
   ]
  },
  {
   "cell_type": "code",
   "execution_count": 15,
   "id": "3c16cf29",
   "metadata": {},
   "outputs": [],
   "source": [
    "#df['CATEGORY_3'] = df.replace(df['CATEGORY_3'],df_category['PROPRTIES_NAME'])"
   ]
  },
  {
   "cell_type": "code",
   "execution_count": 16,
   "id": "3e18b428",
   "metadata": {},
   "outputs": [],
   "source": [
    "##df_company.replace(to_replace = 1 , value = \"k\")"
   ]
  },
  {
   "cell_type": "markdown",
   "id": "44812f9e",
   "metadata": {},
   "source": [
    "# Insert"
   ]
  },
  {
   "cell_type": "code",
   "execution_count": 17,
   "id": "cb8e553e",
   "metadata": {},
   "outputs": [],
   "source": [
    "##df.insert(loc=1, column='Top Player Countries', value='USA', allow_duplicates=True)"
   ]
  },
  {
   "cell_type": "markdown",
   "id": "ec3854f7",
   "metadata": {},
   "source": [
    "# Rename"
   ]
  },
  {
   "cell_type": "code",
   "execution_count": 18,
   "id": "1c21e342",
   "metadata": {},
   "outputs": [],
   "source": [
    "#df = pd.DataFrame(df)\n",
    "#df.rename(columns = {\"DATE_\" : \"Date\", \"ClintName\" : \"Client_Name\" }, inplace = True )"
   ]
  },
  {
   "cell_type": "markdown",
   "id": "97517931",
   "metadata": {},
   "source": [
    "# Read Excel File"
   ]
  },
  {
   "cell_type": "code",
   "execution_count": 19,
   "id": "dbdcc81f",
   "metadata": {},
   "outputs": [],
   "source": [
    "\n",
    "#df_category = pd.read_excel('proprties.xlsx')"
   ]
  },
  {
   "cell_type": "markdown",
   "id": "8012298e",
   "metadata": {},
   "source": [
    "# Maximize Displayed Rows"
   ]
  },
  {
   "cell_type": "code",
   "execution_count": 20,
   "id": "85edfe7c",
   "metadata": {},
   "outputs": [],
   "source": [
    "#maximize displayed rows\n",
    "\n",
    "##pd.set_option('display.max_rows', None)"
   ]
  },
  {
   "cell_type": "markdown",
   "id": "a68ac12f",
   "metadata": {},
   "source": [
    "# Lookup"
   ]
  },
  {
   "cell_type": "code",
   "execution_count": 21,
   "id": "4f1abc85",
   "metadata": {},
   "outputs": [],
   "source": [
    "##df_category['value'] = df_category.lookup(df_category.index, df['CATEGORY_3'])"
   ]
  },
  {
   "cell_type": "markdown",
   "id": "286a6eba",
   "metadata": {},
   "source": [
    "# Outer Join"
   ]
  },
  {
   "cell_type": "code",
   "execution_count": 22,
   "id": "a34929a0",
   "metadata": {},
   "outputs": [],
   "source": [
    "#df =pd.merge(df1, df2 , on = \"linked_column\", how= \"outer\")\n"
   ]
  },
  {
   "cell_type": "markdown",
   "id": "5adb6190",
   "metadata": {},
   "source": [
    "# Export Data Frame in New CSV File"
   ]
  },
  {
   "cell_type": "code",
   "execution_count": 23,
   "id": "b54b5ca0",
   "metadata": {},
   "outputs": [],
   "source": [
    "#df.to_csv('file name.csv')\n",
    "#df.to_csv(r'Path where you want to store the exported CSV file\\File Name.csv')"
   ]
  },
  {
   "cell_type": "markdown",
   "id": "bc641451",
   "metadata": {},
   "source": [
    "                                                                                                             By : Maha koutb"
   ]
  }
 ],
 "metadata": {
  "kernelspec": {
   "display_name": "Python 3 (ipykernel)",
   "language": "python",
   "name": "python3"
  },
  "language_info": {
   "codemirror_mode": {
    "name": "ipython",
    "version": 3
   },
   "file_extension": ".py",
   "mimetype": "text/x-python",
   "name": "python",
   "nbconvert_exporter": "python",
   "pygments_lexer": "ipython3",
   "version": "3.9.7"
  }
 },
 "nbformat": 4,
 "nbformat_minor": 5
}
